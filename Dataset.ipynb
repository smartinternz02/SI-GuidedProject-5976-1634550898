{
 "cells": [
  {
   "cell_type": "markdown",
   "id": "b664cae0",
   "metadata": {},
   "source": [
    "https://drive.google.com/drive/folders/1kWyL5QcsCSPxhhnJ2d5r9b26s6b2ehPt?usp=sharing"
   ]
  }
 ],
 "metadata": {
  "kernelspec": {
   "display_name": "Python 3",
   "language": "python",
   "name": "python3"
  },
  "language_info": {
   "codemirror_mode": {
    "name": "ipython",
    "version": 3
   },
   "file_extension": ".py",
   "mimetype": "text/x-python",
   "name": "python",
   "nbconvert_exporter": "python",
   "pygments_lexer": "ipython3",
   "version": "3.8.8"
  }
 },
 "nbformat": 4,
 "nbformat_minor": 5
}
